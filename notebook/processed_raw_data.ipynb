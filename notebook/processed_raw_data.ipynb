{
 "cells": [
  {
   "cell_type": "code",
   "execution_count": 1,
   "metadata": {
    "executionInfo": {
     "elapsed": 1599,
     "status": "ok",
     "timestamp": 1741782452636,
     "user": {
      "displayName": "mfathul",
      "userId": "03643882666820020357"
     },
     "user_tz": -420
    },
    "id": "_5QcKJq4SU0c"
   },
   "outputs": [],
   "source": [
    "# import library\n",
    "import pandas as pd\n",
    "import numpy as np"
   ]
  },
  {
   "cell_type": "code",
   "execution_count": 7,
   "metadata": {
    "id": "ITRAlqZsSdJ0"
   },
   "outputs": [],
   "source": [
    "# import data\n",
    "line_productivity = pd.read_excel('../data/raw/Manufacturing_Line_Productivity.xlsx',\n",
    "                          sheet_name='Line productivity')\n",
    "\n",
    "products = pd.read_excel('../data/raw/Manufacturing_Line_Productivity.xlsx',\n",
    "                     sheet_name='Products')\n",
    "\n",
    "dow_factors = pd.read_excel('../data/raw/Manufacturing_Line_Productivity.xlsx',\n",
    "                          sheet_name='Downtime factors')\n",
    "\n",
    "line_dow = pd.read_excel('../data/raw/Manufacturing_Line_Productivity.xlsx',\n",
    "                     sheet_name='Line downtime')"
   ]
  },
  {
   "cell_type": "markdown",
   "metadata": {
    "id": "nRv-RM7eUBhQ"
   },
   "source": [
    "*Line Productivity*"
   ]
  },
  {
   "cell_type": "code",
   "execution_count": 8,
   "metadata": {
    "colab": {
     "base_uri": "https://localhost:8080/"
    },
    "executionInfo": {
     "elapsed": 6,
     "status": "ok",
     "timestamp": 1741765499708,
     "user": {
      "displayName": "mfathul",
      "userId": "03643882666820020357"
     },
     "user_tz": -420
    },
    "id": "Q4UBsEWZTjR5",
    "outputId": "b86c7c1b-fb5b-4cb8-f5ed-0924bce0eb70"
   },
   "outputs": [
    {
     "name": "stdout",
     "output_type": "stream",
     "text": [
      "<class 'pandas.core.frame.DataFrame'>\n",
      "RangeIndex: 38 entries, 0 to 37\n",
      "Data columns (total 6 columns):\n",
      " #   Column      Non-Null Count  Dtype         \n",
      "---  ------      --------------  -----         \n",
      " 0   Date        38 non-null     datetime64[ns]\n",
      " 1   Product     38 non-null     object        \n",
      " 2   Batch       38 non-null     int64         \n",
      " 3   Operator    38 non-null     object        \n",
      " 4   Start Time  38 non-null     object        \n",
      " 5   End Time    38 non-null     object        \n",
      "dtypes: datetime64[ns](1), int64(1), object(4)\n",
      "memory usage: 1.9+ KB\n"
     ]
    }
   ],
   "source": [
    "# check info\n",
    "line_productivity.info()"
   ]
  },
  {
   "cell_type": "code",
   "execution_count": 9,
   "metadata": {
    "colab": {
     "base_uri": "https://localhost:8080/",
     "height": 206
    },
    "executionInfo": {
     "elapsed": 92,
     "status": "ok",
     "timestamp": 1741765507101,
     "user": {
      "displayName": "mfathul",
      "userId": "03643882666820020357"
     },
     "user_tz": -420
    },
    "id": "VPcmxDEeUFj7",
    "outputId": "aca94d96-a9a7-4305-9907-8e8b7da04133"
   },
   "outputs": [
    {
     "data": {
      "text/html": [
       "<div>\n",
       "<style scoped>\n",
       "    .dataframe tbody tr th:only-of-type {\n",
       "        vertical-align: middle;\n",
       "    }\n",
       "\n",
       "    .dataframe tbody tr th {\n",
       "        vertical-align: top;\n",
       "    }\n",
       "\n",
       "    .dataframe thead th {\n",
       "        text-align: right;\n",
       "    }\n",
       "</style>\n",
       "<table border=\"1\" class=\"dataframe\">\n",
       "  <thead>\n",
       "    <tr style=\"text-align: right;\">\n",
       "      <th></th>\n",
       "      <th>Date</th>\n",
       "      <th>Product</th>\n",
       "      <th>Batch</th>\n",
       "      <th>Operator</th>\n",
       "      <th>Start Time</th>\n",
       "      <th>End Time</th>\n",
       "    </tr>\n",
       "  </thead>\n",
       "  <tbody>\n",
       "    <tr>\n",
       "      <th>0</th>\n",
       "      <td>2024-08-29</td>\n",
       "      <td>OR-600</td>\n",
       "      <td>422111</td>\n",
       "      <td>Mac</td>\n",
       "      <td>11:50:00</td>\n",
       "      <td>14:05:00</td>\n",
       "    </tr>\n",
       "    <tr>\n",
       "      <th>1</th>\n",
       "      <td>2024-08-29</td>\n",
       "      <td>LE-600</td>\n",
       "      <td>422112</td>\n",
       "      <td>Mac</td>\n",
       "      <td>14:05:00</td>\n",
       "      <td>15:45:00</td>\n",
       "    </tr>\n",
       "    <tr>\n",
       "      <th>2</th>\n",
       "      <td>2024-08-29</td>\n",
       "      <td>LE-600</td>\n",
       "      <td>422113</td>\n",
       "      <td>Mac</td>\n",
       "      <td>15:45:00</td>\n",
       "      <td>17:35:00</td>\n",
       "    </tr>\n",
       "    <tr>\n",
       "      <th>3</th>\n",
       "      <td>2024-08-29</td>\n",
       "      <td>LE-600</td>\n",
       "      <td>422114</td>\n",
       "      <td>Mac</td>\n",
       "      <td>17:35:00</td>\n",
       "      <td>19:15:00</td>\n",
       "    </tr>\n",
       "    <tr>\n",
       "      <th>4</th>\n",
       "      <td>2024-08-29</td>\n",
       "      <td>LE-600</td>\n",
       "      <td>422115</td>\n",
       "      <td>Charlie</td>\n",
       "      <td>19:15:00</td>\n",
       "      <td>20:39:00</td>\n",
       "    </tr>\n",
       "  </tbody>\n",
       "</table>\n",
       "</div>"
      ],
      "text/plain": [
       "        Date Product   Batch Operator Start Time  End Time\n",
       "0 2024-08-29  OR-600  422111      Mac   11:50:00  14:05:00\n",
       "1 2024-08-29  LE-600  422112      Mac   14:05:00  15:45:00\n",
       "2 2024-08-29  LE-600  422113      Mac   15:45:00  17:35:00\n",
       "3 2024-08-29  LE-600  422114      Mac   17:35:00  19:15:00\n",
       "4 2024-08-29  LE-600  422115  Charlie   19:15:00  20:39:00"
      ]
     },
     "execution_count": 9,
     "metadata": {},
     "output_type": "execute_result"
    }
   ],
   "source": [
    "line_productivity.head()"
   ]
  },
  {
   "cell_type": "code",
   "execution_count": 10,
   "metadata": {
    "colab": {
     "base_uri": "https://localhost:8080/",
     "height": 303
    },
    "executionInfo": {
     "elapsed": 46,
     "status": "ok",
     "timestamp": 1741765534189,
     "user": {
      "displayName": "mfathul",
      "userId": "03643882666820020357"
     },
     "user_tz": -420
    },
    "id": "8B7gacDjUHZU",
    "outputId": "d84edd20-9d20-4687-a4ac-fcea3712bed2"
   },
   "outputs": [
    {
     "data": {
      "text/plain": [
       "Product\n",
       "CO-600    15\n",
       "RB-600     7\n",
       "LE-600     6\n",
       "CO-2L      5\n",
       "DC-600     4\n",
       "OR-600     1\n",
       "Name: count, dtype: int64"
      ]
     },
     "execution_count": 10,
     "metadata": {},
     "output_type": "execute_result"
    }
   ],
   "source": [
    "line_productivity['Product'].value_counts()"
   ]
  },
  {
   "cell_type": "code",
   "execution_count": 11,
   "metadata": {
    "colab": {
     "base_uri": "https://localhost:8080/",
     "height": 241
    },
    "executionInfo": {
     "elapsed": 5,
     "status": "ok",
     "timestamp": 1741765550087,
     "user": {
      "displayName": "mfathul",
      "userId": "03643882666820020357"
     },
     "user_tz": -420
    },
    "id": "Kp97b_k2UN78",
    "outputId": "d388a0dc-7984-4ab8-9fa1-d2eeddb1994f"
   },
   "outputs": [
    {
     "data": {
      "text/plain": [
       "Operator\n",
       "Charlie    11\n",
       "Dee        11\n",
       "Mac         8\n",
       "Dennis      8\n",
       "Name: count, dtype: int64"
      ]
     },
     "execution_count": 11,
     "metadata": {},
     "output_type": "execute_result"
    }
   ],
   "source": [
    "line_productivity['Operator'].value_counts()"
   ]
  },
  {
   "cell_type": "code",
   "execution_count": 12,
   "metadata": {
    "colab": {
     "base_uri": "https://localhost:8080/",
     "height": 300
    },
    "executionInfo": {
     "elapsed": 5,
     "status": "ok",
     "timestamp": 1741765577103,
     "user": {
      "displayName": "mfathul",
      "userId": "03643882666820020357"
     },
     "user_tz": -420
    },
    "id": "2hZ5m5uZUR3v",
    "outputId": "f4ef5474-d5a3-466d-d17d-ddc81295b421"
   },
   "outputs": [
    {
     "data": {
      "text/html": [
       "<div>\n",
       "<style scoped>\n",
       "    .dataframe tbody tr th:only-of-type {\n",
       "        vertical-align: middle;\n",
       "    }\n",
       "\n",
       "    .dataframe tbody tr th {\n",
       "        vertical-align: top;\n",
       "    }\n",
       "\n",
       "    .dataframe thead th {\n",
       "        text-align: right;\n",
       "    }\n",
       "</style>\n",
       "<table border=\"1\" class=\"dataframe\">\n",
       "  <thead>\n",
       "    <tr style=\"text-align: right;\">\n",
       "      <th></th>\n",
       "      <th>Date</th>\n",
       "      <th>Batch</th>\n",
       "    </tr>\n",
       "  </thead>\n",
       "  <tbody>\n",
       "    <tr>\n",
       "      <th>count</th>\n",
       "      <td>38</td>\n",
       "      <td>38.000000</td>\n",
       "    </tr>\n",
       "    <tr>\n",
       "      <th>mean</th>\n",
       "      <td>2024-08-30 23:22:06.315789568</td>\n",
       "      <td>422129.500000</td>\n",
       "    </tr>\n",
       "    <tr>\n",
       "      <th>min</th>\n",
       "      <td>2024-08-29 00:00:00</td>\n",
       "      <td>422111.000000</td>\n",
       "    </tr>\n",
       "    <tr>\n",
       "      <th>25%</th>\n",
       "      <td>2024-08-30 00:00:00</td>\n",
       "      <td>422120.250000</td>\n",
       "    </tr>\n",
       "    <tr>\n",
       "      <th>50%</th>\n",
       "      <td>2024-08-30 12:00:00</td>\n",
       "      <td>422129.500000</td>\n",
       "    </tr>\n",
       "    <tr>\n",
       "      <th>75%</th>\n",
       "      <td>2024-09-02 00:00:00</td>\n",
       "      <td>422138.750000</td>\n",
       "    </tr>\n",
       "    <tr>\n",
       "      <th>max</th>\n",
       "      <td>2024-09-03 00:00:00</td>\n",
       "      <td>422148.000000</td>\n",
       "    </tr>\n",
       "    <tr>\n",
       "      <th>std</th>\n",
       "      <td>NaN</td>\n",
       "      <td>11.113055</td>\n",
       "    </tr>\n",
       "  </tbody>\n",
       "</table>\n",
       "</div>"
      ],
      "text/plain": [
       "                                Date          Batch\n",
       "count                             38      38.000000\n",
       "mean   2024-08-30 23:22:06.315789568  422129.500000\n",
       "min              2024-08-29 00:00:00  422111.000000\n",
       "25%              2024-08-30 00:00:00  422120.250000\n",
       "50%              2024-08-30 12:00:00  422129.500000\n",
       "75%              2024-09-02 00:00:00  422138.750000\n",
       "max              2024-09-03 00:00:00  422148.000000\n",
       "std                              NaN      11.113055"
      ]
     },
     "execution_count": 12,
     "metadata": {},
     "output_type": "execute_result"
    }
   ],
   "source": [
    "line_productivity.describe()"
   ]
  },
  {
   "cell_type": "code",
   "execution_count": 13,
   "metadata": {
    "id": "N5JShl9sV0gt"
   },
   "outputs": [],
   "source": [
    "# load to csv\n",
    "line_productivity.to_csv('../data/processed/line_productivity.csv', index=False)"
   ]
  },
  {
   "cell_type": "code",
   "execution_count": null,
   "metadata": {
    "colab": {
     "base_uri": "https://localhost:8080/"
    },
    "executionInfo": {
     "elapsed": 2558,
     "status": "ok",
     "timestamp": 1741767753725,
     "user": {
      "displayName": "mfathul",
      "userId": "03643882666820020357"
     },
     "user_tz": -420
    },
    "id": "uUJEnvf4cRZD",
    "outputId": "10bd96a7-73a8-438a-d936-ef21cde2417c"
   },
   "outputs": [
    {
     "data": {
      "text/plain": [
       "38"
      ]
     },
     "execution_count": 40,
     "metadata": {},
     "output_type": "execute_result"
    }
   ],
   "source": [
    "# # load to neon postgresql\n",
    "# line_productivity.to_sql(name='line_productivity', con='', index=False, if_exists='append')"
   ]
  },
  {
   "cell_type": "markdown",
   "metadata": {
    "id": "aK-eNbtjUe4y"
   },
   "source": [
    "*Products*"
   ]
  },
  {
   "cell_type": "code",
   "execution_count": 14,
   "metadata": {
    "colab": {
     "base_uri": "https://localhost:8080/"
    },
    "executionInfo": {
     "elapsed": 4,
     "status": "ok",
     "timestamp": 1741765611044,
     "user": {
      "displayName": "mfathul",
      "userId": "03643882666820020357"
     },
     "user_tz": -420
    },
    "id": "FSjlQJrsTpZe",
    "outputId": "2d04fc46-db60-4081-9bf0-7e9064873023"
   },
   "outputs": [
    {
     "name": "stdout",
     "output_type": "stream",
     "text": [
      "<class 'pandas.core.frame.DataFrame'>\n",
      "RangeIndex: 6 entries, 0 to 5\n",
      "Data columns (total 4 columns):\n",
      " #   Column          Non-Null Count  Dtype \n",
      "---  ------          --------------  ----- \n",
      " 0   Product         6 non-null      object\n",
      " 1   Flavor          6 non-null      object\n",
      " 2   Size            6 non-null      object\n",
      " 3   Min batch time  6 non-null      int64 \n",
      "dtypes: int64(1), object(3)\n",
      "memory usage: 324.0+ bytes\n"
     ]
    }
   ],
   "source": [
    "# check info of products table\n",
    "products.info()"
   ]
  },
  {
   "cell_type": "code",
   "execution_count": 15,
   "metadata": {
    "colab": {
     "base_uri": "https://localhost:8080/",
     "height": 237
    },
    "executionInfo": {
     "elapsed": 127,
     "status": "ok",
     "timestamp": 1741765616781,
     "user": {
      "displayName": "mfathul",
      "userId": "03643882666820020357"
     },
     "user_tz": -420
    },
    "id": "teJUwPy-UgyS",
    "outputId": "81b39c1e-3698-498b-852a-beb71855e764"
   },
   "outputs": [
    {
     "data": {
      "text/html": [
       "<div>\n",
       "<style scoped>\n",
       "    .dataframe tbody tr th:only-of-type {\n",
       "        vertical-align: middle;\n",
       "    }\n",
       "\n",
       "    .dataframe tbody tr th {\n",
       "        vertical-align: top;\n",
       "    }\n",
       "\n",
       "    .dataframe thead th {\n",
       "        text-align: right;\n",
       "    }\n",
       "</style>\n",
       "<table border=\"1\" class=\"dataframe\">\n",
       "  <thead>\n",
       "    <tr style=\"text-align: right;\">\n",
       "      <th></th>\n",
       "      <th>Product</th>\n",
       "      <th>Flavor</th>\n",
       "      <th>Size</th>\n",
       "      <th>Min batch time</th>\n",
       "    </tr>\n",
       "  </thead>\n",
       "  <tbody>\n",
       "    <tr>\n",
       "      <th>0</th>\n",
       "      <td>OR-600</td>\n",
       "      <td>Orange</td>\n",
       "      <td>600 ml</td>\n",
       "      <td>60</td>\n",
       "    </tr>\n",
       "    <tr>\n",
       "      <th>1</th>\n",
       "      <td>LE-600</td>\n",
       "      <td>Lemon lime</td>\n",
       "      <td>600 ml</td>\n",
       "      <td>60</td>\n",
       "    </tr>\n",
       "    <tr>\n",
       "      <th>2</th>\n",
       "      <td>CO-600</td>\n",
       "      <td>Cola</td>\n",
       "      <td>600 ml</td>\n",
       "      <td>60</td>\n",
       "    </tr>\n",
       "    <tr>\n",
       "      <th>3</th>\n",
       "      <td>DC-600</td>\n",
       "      <td>Diet Cola</td>\n",
       "      <td>600 ml</td>\n",
       "      <td>60</td>\n",
       "    </tr>\n",
       "    <tr>\n",
       "      <th>4</th>\n",
       "      <td>RB-600</td>\n",
       "      <td>Root Beer</td>\n",
       "      <td>600 ml</td>\n",
       "      <td>60</td>\n",
       "    </tr>\n",
       "    <tr>\n",
       "      <th>5</th>\n",
       "      <td>CO-2L</td>\n",
       "      <td>Cola</td>\n",
       "      <td>2 L</td>\n",
       "      <td>98</td>\n",
       "    </tr>\n",
       "  </tbody>\n",
       "</table>\n",
       "</div>"
      ],
      "text/plain": [
       "  Product      Flavor    Size  Min batch time\n",
       "0  OR-600      Orange  600 ml              60\n",
       "1  LE-600  Lemon lime  600 ml              60\n",
       "2  CO-600        Cola  600 ml              60\n",
       "3  DC-600   Diet Cola  600 ml              60\n",
       "4  RB-600   Root Beer  600 ml              60\n",
       "5   CO-2L        Cola     2 L              98"
      ]
     },
     "execution_count": 15,
     "metadata": {},
     "output_type": "execute_result"
    }
   ],
   "source": [
    "products"
   ]
  },
  {
   "cell_type": "code",
   "execution_count": 16,
   "metadata": {
    "id": "odV3xaUeYaf3"
   },
   "outputs": [],
   "source": [
    "# load to csv\n",
    "products.to_csv('../data/processed/products.csv', index=False)"
   ]
  },
  {
   "cell_type": "code",
   "execution_count": null,
   "metadata": {
    "colab": {
     "base_uri": "https://localhost:8080/"
    },
    "executionInfo": {
     "elapsed": 272,
     "status": "ok",
     "timestamp": 1741767788993,
     "user": {
      "displayName": "mfathul",
      "userId": "03643882666820020357"
     },
     "user_tz": -420
    },
    "id": "P25WFW5icvyh",
    "outputId": "807c4c92-9159-402b-df02-c1b93c75b5a5"
   },
   "outputs": [
    {
     "data": {
      "text/plain": [
       "6"
      ]
     },
     "execution_count": 41,
     "metadata": {},
     "output_type": "execute_result"
    }
   ],
   "source": [
    "# # load to neon postgresql\n",
    "# products.to_sql(name='products', con='', index=False, if_exists='append')"
   ]
  },
  {
   "cell_type": "markdown",
   "metadata": {
    "id": "BAZHUDBDUlDH"
   },
   "source": [
    "*Downtime Factors*"
   ]
  },
  {
   "cell_type": "code",
   "execution_count": 17,
   "metadata": {
    "colab": {
     "base_uri": "https://localhost:8080/"
    },
    "executionInfo": {
     "elapsed": 34,
     "status": "ok",
     "timestamp": 1741765651875,
     "user": {
      "displayName": "mfathul",
      "userId": "03643882666820020357"
     },
     "user_tz": -420
    },
    "id": "BcJDvHYVUiKW",
    "outputId": "e2ee2a77-866f-49a3-c0d2-b70b36cdb2c1"
   },
   "outputs": [
    {
     "name": "stdout",
     "output_type": "stream",
     "text": [
      "<class 'pandas.core.frame.DataFrame'>\n",
      "RangeIndex: 12 entries, 0 to 11\n",
      "Data columns (total 3 columns):\n",
      " #   Column          Non-Null Count  Dtype \n",
      "---  ------          --------------  ----- \n",
      " 0   Factor          12 non-null     int64 \n",
      " 1   Description     12 non-null     object\n",
      " 2   Operator Error  12 non-null     object\n",
      "dtypes: int64(1), object(2)\n",
      "memory usage: 420.0+ bytes\n"
     ]
    }
   ],
   "source": [
    "# check info\n",
    "dow_factors.info()"
   ]
  },
  {
   "cell_type": "code",
   "execution_count": 18,
   "metadata": {
    "colab": {
     "base_uri": "https://localhost:8080/",
     "height": 425
    },
    "executionInfo": {
     "elapsed": 10,
     "status": "ok",
     "timestamp": 1741766051002,
     "user": {
      "displayName": "mfathul",
      "userId": "03643882666820020357"
     },
     "user_tz": -420
    },
    "id": "uzCpUY6uUqvG",
    "outputId": "18dba383-176c-49ef-dcb4-460b82d36e24"
   },
   "outputs": [
    {
     "data": {
      "text/html": [
       "<div>\n",
       "<style scoped>\n",
       "    .dataframe tbody tr th:only-of-type {\n",
       "        vertical-align: middle;\n",
       "    }\n",
       "\n",
       "    .dataframe tbody tr th {\n",
       "        vertical-align: top;\n",
       "    }\n",
       "\n",
       "    .dataframe thead th {\n",
       "        text-align: right;\n",
       "    }\n",
       "</style>\n",
       "<table border=\"1\" class=\"dataframe\">\n",
       "  <thead>\n",
       "    <tr style=\"text-align: right;\">\n",
       "      <th></th>\n",
       "      <th>Factor</th>\n",
       "      <th>Description</th>\n",
       "      <th>Operator Error</th>\n",
       "    </tr>\n",
       "  </thead>\n",
       "  <tbody>\n",
       "    <tr>\n",
       "      <th>0</th>\n",
       "      <td>1</td>\n",
       "      <td>Emergency stop</td>\n",
       "      <td>No</td>\n",
       "    </tr>\n",
       "    <tr>\n",
       "      <th>1</th>\n",
       "      <td>2</td>\n",
       "      <td>Batch change</td>\n",
       "      <td>Yes</td>\n",
       "    </tr>\n",
       "    <tr>\n",
       "      <th>2</th>\n",
       "      <td>3</td>\n",
       "      <td>Labeling error</td>\n",
       "      <td>No</td>\n",
       "    </tr>\n",
       "    <tr>\n",
       "      <th>3</th>\n",
       "      <td>4</td>\n",
       "      <td>Inventory shortage</td>\n",
       "      <td>No</td>\n",
       "    </tr>\n",
       "    <tr>\n",
       "      <th>4</th>\n",
       "      <td>5</td>\n",
       "      <td>Product spill</td>\n",
       "      <td>Yes</td>\n",
       "    </tr>\n",
       "    <tr>\n",
       "      <th>5</th>\n",
       "      <td>6</td>\n",
       "      <td>Machine adjustment</td>\n",
       "      <td>Yes</td>\n",
       "    </tr>\n",
       "    <tr>\n",
       "      <th>6</th>\n",
       "      <td>7</td>\n",
       "      <td>Machine failure</td>\n",
       "      <td>No</td>\n",
       "    </tr>\n",
       "    <tr>\n",
       "      <th>7</th>\n",
       "      <td>8</td>\n",
       "      <td>Batch coding error</td>\n",
       "      <td>Yes</td>\n",
       "    </tr>\n",
       "    <tr>\n",
       "      <th>8</th>\n",
       "      <td>9</td>\n",
       "      <td>Conveyor belt jam</td>\n",
       "      <td>No</td>\n",
       "    </tr>\n",
       "    <tr>\n",
       "      <th>9</th>\n",
       "      <td>10</td>\n",
       "      <td>Calibration error</td>\n",
       "      <td>Yes</td>\n",
       "    </tr>\n",
       "    <tr>\n",
       "      <th>10</th>\n",
       "      <td>11</td>\n",
       "      <td>Label switch</td>\n",
       "      <td>Yes</td>\n",
       "    </tr>\n",
       "    <tr>\n",
       "      <th>11</th>\n",
       "      <td>12</td>\n",
       "      <td>Other</td>\n",
       "      <td>No</td>\n",
       "    </tr>\n",
       "  </tbody>\n",
       "</table>\n",
       "</div>"
      ],
      "text/plain": [
       "    Factor         Description Operator Error\n",
       "0        1      Emergency stop             No\n",
       "1        2        Batch change            Yes\n",
       "2        3      Labeling error             No\n",
       "3        4  Inventory shortage             No\n",
       "4        5       Product spill            Yes\n",
       "5        6  Machine adjustment            Yes\n",
       "6        7     Machine failure             No\n",
       "7        8  Batch coding error            Yes\n",
       "8        9   Conveyor belt jam             No\n",
       "9       10   Calibration error            Yes\n",
       "10      11        Label switch            Yes\n",
       "11      12               Other             No"
      ]
     },
     "execution_count": 18,
     "metadata": {},
     "output_type": "execute_result"
    }
   ],
   "source": [
    "dow_factors"
   ]
  },
  {
   "cell_type": "code",
   "execution_count": 19,
   "metadata": {
    "id": "2fGs7rUbWMI-"
   },
   "outputs": [],
   "source": [
    "# load to csv\n",
    "dow_factors.to_csv('../data/processed/downtime_factors.csv', index=False)"
   ]
  },
  {
   "cell_type": "code",
   "execution_count": null,
   "metadata": {
    "colab": {
     "base_uri": "https://localhost:8080/"
    },
    "executionInfo": {
     "elapsed": 202,
     "status": "ok",
     "timestamp": 1741767817167,
     "user": {
      "displayName": "mfathul",
      "userId": "03643882666820020357"
     },
     "user_tz": -420
    },
    "id": "69sdHahSc3A_",
    "outputId": "445decf4-701e-40ba-ef0c-dcac07935c7a"
   },
   "outputs": [
    {
     "data": {
      "text/plain": [
       "12"
      ]
     },
     "execution_count": 42,
     "metadata": {},
     "output_type": "execute_result"
    }
   ],
   "source": [
    "# # load to neon postgresql\n",
    "# dow_factors.to_sql(name='downtime_factors', con='', index=False, if_exists='append')"
   ]
  },
  {
   "cell_type": "markdown",
   "metadata": {
    "id": "7UDan9wjWQSZ"
   },
   "source": [
    "*Line Downtime*"
   ]
  },
  {
   "cell_type": "code",
   "execution_count": 20,
   "metadata": {
    "colab": {
     "base_uri": "https://localhost:8080/"
    },
    "executionInfo": {
     "elapsed": 27,
     "status": "ok",
     "timestamp": 1741766095448,
     "user": {
      "displayName": "mfathul",
      "userId": "03643882666820020357"
     },
     "user_tz": -420
    },
    "id": "KBUEoVvzT6QO",
    "outputId": "8e3919cd-defb-4a52-d862-82640faf5fd3"
   },
   "outputs": [
    {
     "name": "stdout",
     "output_type": "stream",
     "text": [
      "<class 'pandas.core.frame.DataFrame'>\n",
      "RangeIndex: 39 entries, 0 to 38\n",
      "Data columns (total 13 columns):\n",
      " #   Column           Non-Null Count  Dtype  \n",
      "---  ------           --------------  -----  \n",
      " 0   Unnamed: 0       39 non-null     object \n",
      " 1   Downtime factor  1 non-null      float64\n",
      " 2   Unnamed: 2       6 non-null      float64\n",
      " 3   Unnamed: 3       3 non-null      float64\n",
      " 4   Unnamed: 4       10 non-null     float64\n",
      " 5   Unnamed: 5       4 non-null      float64\n",
      " 6   Unnamed: 6       13 non-null     float64\n",
      " 7   Unnamed: 7       12 non-null     float64\n",
      " 8   Unnamed: 8       7 non-null      float64\n",
      " 9   Unnamed: 9       2 non-null      float64\n",
      " 10  Unnamed: 10      4 non-null      float64\n",
      " 11  Unnamed: 11      4 non-null      float64\n",
      " 12  Unnamed: 12      7 non-null      float64\n",
      "dtypes: float64(12), object(1)\n",
      "memory usage: 4.1+ KB\n"
     ]
    }
   ],
   "source": [
    "# check info\n",
    "line_dow.info()"
   ]
  },
  {
   "cell_type": "code",
   "execution_count": 21,
   "metadata": {
    "id": "rHbcEp3JWXDG"
   },
   "outputs": [],
   "source": [
    "line_dow.columns = line_dow.iloc[0,:]\n",
    "line_dow = line_dow.drop(labels=0, axis=0).reset_index(drop=True)"
   ]
  },
  {
   "cell_type": "code",
   "execution_count": 22,
   "metadata": {
    "colab": {
     "base_uri": "https://localhost:8080/",
     "height": 423
    },
    "executionInfo": {
     "elapsed": 72,
     "status": "ok",
     "timestamp": 1741766567587,
     "user": {
      "displayName": "mfathul",
      "userId": "03643882666820020357"
     },
     "user_tz": -420
    },
    "id": "dN9ff6wOX9KQ",
    "outputId": "4aaf0f28-015c-475b-f10d-4d74e1a91a37"
   },
   "outputs": [
    {
     "data": {
      "text/html": [
       "<div>\n",
       "<style scoped>\n",
       "    .dataframe tbody tr th:only-of-type {\n",
       "        vertical-align: middle;\n",
       "    }\n",
       "\n",
       "    .dataframe tbody tr th {\n",
       "        vertical-align: top;\n",
       "    }\n",
       "\n",
       "    .dataframe thead th {\n",
       "        text-align: right;\n",
       "    }\n",
       "</style>\n",
       "<table border=\"1\" class=\"dataframe\">\n",
       "  <thead>\n",
       "    <tr style=\"text-align: right;\">\n",
       "      <th></th>\n",
       "      <th>Batch</th>\n",
       "      <th>Downtime Factor</th>\n",
       "      <th>Duration</th>\n",
       "    </tr>\n",
       "  </thead>\n",
       "  <tbody>\n",
       "    <tr>\n",
       "      <th>0</th>\n",
       "      <td>422111</td>\n",
       "      <td>1</td>\n",
       "      <td>NaN</td>\n",
       "    </tr>\n",
       "    <tr>\n",
       "      <th>1</th>\n",
       "      <td>422112</td>\n",
       "      <td>1</td>\n",
       "      <td>NaN</td>\n",
       "    </tr>\n",
       "    <tr>\n",
       "      <th>2</th>\n",
       "      <td>422113</td>\n",
       "      <td>1</td>\n",
       "      <td>NaN</td>\n",
       "    </tr>\n",
       "    <tr>\n",
       "      <th>3</th>\n",
       "      <td>422114</td>\n",
       "      <td>1</td>\n",
       "      <td>NaN</td>\n",
       "    </tr>\n",
       "    <tr>\n",
       "      <th>4</th>\n",
       "      <td>422115</td>\n",
       "      <td>1</td>\n",
       "      <td>NaN</td>\n",
       "    </tr>\n",
       "    <tr>\n",
       "      <th>...</th>\n",
       "      <td>...</td>\n",
       "      <td>...</td>\n",
       "      <td>...</td>\n",
       "    </tr>\n",
       "    <tr>\n",
       "      <th>451</th>\n",
       "      <td>422144</td>\n",
       "      <td>12</td>\n",
       "      <td>NaN</td>\n",
       "    </tr>\n",
       "    <tr>\n",
       "      <th>452</th>\n",
       "      <td>422145</td>\n",
       "      <td>12</td>\n",
       "      <td>NaN</td>\n",
       "    </tr>\n",
       "    <tr>\n",
       "      <th>453</th>\n",
       "      <td>422146</td>\n",
       "      <td>12</td>\n",
       "      <td>7.0</td>\n",
       "    </tr>\n",
       "    <tr>\n",
       "      <th>454</th>\n",
       "      <td>422147</td>\n",
       "      <td>12</td>\n",
       "      <td>NaN</td>\n",
       "    </tr>\n",
       "    <tr>\n",
       "      <th>455</th>\n",
       "      <td>422148</td>\n",
       "      <td>12</td>\n",
       "      <td>NaN</td>\n",
       "    </tr>\n",
       "  </tbody>\n",
       "</table>\n",
       "<p>456 rows × 3 columns</p>\n",
       "</div>"
      ],
      "text/plain": [
       "      Batch  Downtime Factor  Duration\n",
       "0    422111                1       NaN\n",
       "1    422112                1       NaN\n",
       "2    422113                1       NaN\n",
       "3    422114                1       NaN\n",
       "4    422115                1       NaN\n",
       "..      ...              ...       ...\n",
       "451  422144               12       NaN\n",
       "452  422145               12       NaN\n",
       "453  422146               12       7.0\n",
       "454  422147               12       NaN\n",
       "455  422148               12       NaN\n",
       "\n",
       "[456 rows x 3 columns]"
      ]
     },
     "execution_count": 22,
     "metadata": {},
     "output_type": "execute_result"
    }
   ],
   "source": [
    "line_dow = line_dow.melt(id_vars=[\"Batch\"], var_name=\"Downtime Factor\", value_name=\"Duration\")\n",
    "line_dow['Downtime Factor'] = line_dow['Downtime Factor'].astype('int')\n",
    "line_dow"
   ]
  },
  {
   "cell_type": "code",
   "execution_count": 23,
   "metadata": {
    "id": "86rVkf40YN3K"
   },
   "outputs": [],
   "source": [
    "# load to csv\n",
    "line_dow.to_csv('../data/processed/line_downtime.csv', index=False)"
   ]
  },
  {
   "cell_type": "code",
   "execution_count": null,
   "metadata": {
    "colab": {
     "base_uri": "https://localhost:8080/"
    },
    "executionInfo": {
     "elapsed": 704,
     "status": "ok",
     "timestamp": 1741767840484,
     "user": {
      "displayName": "mfathul",
      "userId": "03643882666820020357"
     },
     "user_tz": -420
    },
    "id": "VWGoT-jJc9Fp",
    "outputId": "4323c1d4-003b-4454-d3b7-cbeb9ff6332b"
   },
   "outputs": [
    {
     "data": {
      "text/plain": [
       "456"
      ]
     },
     "execution_count": 43,
     "metadata": {},
     "output_type": "execute_result"
    }
   ],
   "source": [
    "# # load to neon postgresql\n",
    "# line_dow.to_sql(name='line_downtime', con='', index=False, if_exists='append')"
   ]
  }
 ],
 "metadata": {
  "colab": {
   "authorship_tag": "ABX9TyOB+06vzLk6f9a14TU20ErB",
   "provenance": []
  },
  "kernelspec": {
   "display_name": "Python 3",
   "name": "python3"
  },
  "language_info": {
   "codemirror_mode": {
    "name": "ipython",
    "version": 3
   },
   "file_extension": ".py",
   "mimetype": "text/x-python",
   "name": "python",
   "nbconvert_exporter": "python",
   "pygments_lexer": "ipython3",
   "version": "3.13.0"
  }
 },
 "nbformat": 4,
 "nbformat_minor": 0
}
